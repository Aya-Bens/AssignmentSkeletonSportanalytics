{
 "cells": [
  {
   "cell_type": "code",
   "execution_count": 7,
   "id": "ae6610ef",
   "metadata": {},
   "outputs": [],
   "source": [
    "#STD ID: 40132296\n",
    "#create a chess board "
   ]
  },
  {
   "cell_type": "code",
   "execution_count": 25,
   "id": "620dbd0c",
   "metadata": {},
   "outputs": [],
   "source": [
    "import numpy\n",
    "import matplotlib.pyplot as plot"
   ]
  },
  {
   "cell_type": "code",
   "execution_count": 12,
   "id": "909e666d",
   "metadata": {},
   "outputs": [],
   "source": [
    "#create the black & white background"
   ]
  },
  {
   "cell_type": "code",
   "execution_count": 18,
   "id": "d83f1284",
   "metadata": {},
   "outputs": [],
   "source": [
    "black=numpy.zeros((100,100), dtype=numpy.uint8) #black background 100 by 100"
   ]
  },
  {
   "cell_type": "code",
   "execution_count": 19,
   "id": "d926c339",
   "metadata": {},
   "outputs": [],
   "source": [
    "white=numpy.ones((10,10), dtype=numpy.uint8) #create the 10 by 10 white squares"
   ]
  },
  {
   "cell_type": "code",
   "execution_count": 20,
   "id": "81be1d20",
   "metadata": {},
   "outputs": [],
   "source": [
    "#creating the corner\n",
    "black[0:10,0:10]=white"
   ]
  },
  {
   "cell_type": "code",
   "execution_count": 22,
   "id": "6b268195",
   "metadata": {},
   "outputs": [],
   "source": [
    "#creating diagonaly oposite part white (with 10 pixels tow and 10 pixels column)"
   ]
  },
  {
   "cell_type": "code",
   "execution_count": 28,
   "id": "e3e991de",
   "metadata": {},
   "outputs": [
    {
     "data": {
      "text/plain": [
       "<matplotlib.image.AxesImage at 0x12dad0350>"
      ]
     },
     "execution_count": 28,
     "metadata": {},
     "output_type": "execute_result"
    },
    {
     "data": {
      "image/png": "[encoded data removed]",
      "text/plain": [
       "<Figure size 640x480 with 1 Axes>"
      ]
     },
     "metadata": {},
     "output_type": "display_data"
    }
   ],
   "source": [
    "black[10:20,10:20]=white\n",
    "\n",
    "#creating the square that will be repeating \n",
    "square=black[0:20,0:20]\n",
    "\n",
    "#creating a tile function\n",
    "chess=numpy.tile(square,(4,4))\n",
    "#to remove the measurement on the side of the chess board \n",
    "plt.xticks([])\n",
    "plt.yticks([])\n",
    "plt.imshow(chess,cmap=\"gray\")"
   ]
  },
  {
   "cell_type": "code",
   "execution_count": null,
   "id": "2bd0ca7c",
   "metadata": {},
   "outputs": [],
   "source": []
  }
 ],
 "metadata": {
  "kernelspec": {
   "display_name": "Python 3 (ipykernel)",
   "language": "python",
   "name": "python3"
  },
  "language_info": {
   "codemirror_mode": {
    "name": "ipython",
    "version": 3
   },
   "file_extension": ".py",
   "mimetype": "text/x-python",
   "name": "python",
   "nbconvert_exporter": "python",
   "pygments_lexer": "ipython3",
   "version": "3.11.4"
  }
 },
 "nbformat": 4,
 "nbformat_minor": 5
}
